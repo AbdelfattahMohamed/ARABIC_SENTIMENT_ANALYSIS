{
 "cells": [
  {
   "cell_type": "markdown",
   "metadata": {},
   "source": [
    "##### INFO \n",
    "> Name: Abdelfattah Mohamed\n",
    "\n",
    "> ID: 20173014\n",
    "\n",
    "> Subject: Selected Topics 3\n"
   ]
  },
  {
   "cell_type": "code",
   "execution_count": 39,
   "metadata": {},
   "outputs": [],
   "source": [
    "import pandas as pd\n",
    "from sklearn.feature_extraction.text import CountVectorizer, TfidfTransformer\n",
    "from sklearn.model_selection import train_test_split\n",
    "from sklearn.pipeline import Pipeline\n",
    "from sklearn.svm import SVC\n",
    "from sklearn.metrics import classification_report\n",
    "import numpy as np\n",
    "# TFIDF VECTORIZATION\n",
    "from sklearn.feature_extraction.text import TfidfVectorizer\n",
    "from sklearn.cluster import KMeans\n",
    "import numpy as np\n",
    "# Optimization\n",
    "from sklearn.linear_model import SGDClassifier"
   ]
  },
  {
   "cell_type": "code",
   "execution_count": 2,
   "metadata": {
    "scrolled": true
   },
   "outputs": [
    {
     "name": "stderr",
     "output_type": "stream",
     "text": [
      "b'Skipping line 22: expected 1 fields, saw 2\\nSkipping line 170: expected 1 fields, saw 4\\nSkipping line 241: expected 1 fields, saw 2\\nSkipping line 243: expected 1 fields, saw 2\\nSkipping line 284: expected 1 fields, saw 4\\nSkipping line 310: expected 1 fields, saw 2\\nSkipping line 439: expected 1 fields, saw 2\\nSkipping line 518: expected 1 fields, saw 3\\nSkipping line 545: expected 1 fields, saw 2\\nSkipping line 603: expected 1 fields, saw 2\\nSkipping line 707: expected 1 fields, saw 2\\nSkipping line 807: expected 1 fields, saw 2\\nSkipping line 1094: expected 1 fields, saw 2\\nSkipping line 1148: expected 1 fields, saw 2\\nSkipping line 1178: expected 1 fields, saw 4\\nSkipping line 1228: expected 1 fields, saw 3\\nSkipping line 1378: expected 1 fields, saw 3\\nSkipping line 1483: expected 1 fields, saw 2\\nSkipping line 1494: expected 1 fields, saw 2\\nSkipping line 1525: expected 1 fields, saw 5\\nSkipping line 1660: expected 1 fields, saw 2\\nSkipping line 1665: expected 1 fields, saw 5\\nSkipping line 1698: expected 1 fields, saw 3\\nSkipping line 1730: expected 1 fields, saw 3\\nSkipping line 1764: expected 1 fields, saw 3\\nSkipping line 1799: expected 1 fields, saw 4\\nSkipping line 1971: expected 1 fields, saw 3\\nSkipping line 2009: expected 1 fields, saw 2\\nSkipping line 2141: expected 1 fields, saw 2\\nSkipping line 2178: expected 1 fields, saw 2\\nSkipping line 2262: expected 1 fields, saw 2\\nSkipping line 2335: expected 1 fields, saw 2\\nSkipping line 2584: expected 1 fields, saw 2\\nSkipping line 2638: expected 1 fields, saw 2\\nSkipping line 2679: expected 1 fields, saw 2\\nSkipping line 2708: expected 1 fields, saw 2\\nSkipping line 2791: expected 1 fields, saw 2\\nSkipping line 2831: expected 1 fields, saw 5\\nSkipping line 2854: expected 1 fields, saw 2\\nSkipping line 2924: expected 1 fields, saw 2\\nSkipping line 2977: expected 1 fields, saw 2\\nSkipping line 3022: expected 1 fields, saw 2\\nSkipping line 3066: expected 1 fields, saw 3\\nSkipping line 3146: expected 1 fields, saw 2\\nSkipping line 3158: expected 1 fields, saw 2\\nSkipping line 3253: expected 1 fields, saw 2\\nSkipping line 3272: expected 1 fields, saw 3\\nSkipping line 3330: expected 1 fields, saw 2\\nSkipping line 3357: expected 1 fields, saw 2\\nSkipping line 3485: expected 1 fields, saw 2\\nSkipping line 3616: expected 1 fields, saw 2\\nSkipping line 3825: expected 1 fields, saw 2\\nSkipping line 3826: expected 1 fields, saw 4\\nSkipping line 3983: expected 1 fields, saw 2\\nSkipping line 4068: expected 1 fields, saw 4\\nSkipping line 4427: expected 1 fields, saw 4\\nSkipping line 4479: expected 1 fields, saw 3\\nSkipping line 4541: expected 1 fields, saw 3\\nSkipping line 4689: expected 1 fields, saw 2\\nSkipping line 4707: expected 1 fields, saw 3\\nSkipping line 4733: expected 1 fields, saw 2\\nSkipping line 4756: expected 1 fields, saw 2\\nSkipping line 4816: expected 1 fields, saw 2\\nSkipping line 4867: expected 1 fields, saw 2\\nSkipping line 4881: expected 1 fields, saw 2\\nSkipping line 4908: expected 1 fields, saw 3\\nSkipping line 4995: expected 1 fields, saw 2\\nSkipping line 4998: expected 1 fields, saw 2\\nSkipping line 5072: expected 1 fields, saw 3\\nSkipping line 5149: expected 1 fields, saw 2\\nSkipping line 5153: expected 1 fields, saw 2\\nSkipping line 5166: expected 1 fields, saw 2\\nSkipping line 5200: expected 1 fields, saw 2\\nSkipping line 5241: expected 1 fields, saw 2\\nSkipping line 5327: expected 1 fields, saw 4\\nSkipping line 5390: expected 1 fields, saw 2\\nSkipping line 5471: expected 1 fields, saw 2\\nSkipping line 5568: expected 1 fields, saw 2\\nSkipping line 5600: expected 1 fields, saw 3\\nSkipping line 5692: expected 1 fields, saw 5\\nSkipping line 5821: expected 1 fields, saw 2\\nSkipping line 6052: expected 1 fields, saw 2\\nSkipping line 6067: expected 1 fields, saw 2\\nSkipping line 6126: expected 1 fields, saw 2\\nSkipping line 6254: expected 1 fields, saw 2\\nSkipping line 6440: expected 1 fields, saw 2\\nSkipping line 6447: expected 1 fields, saw 4\\nSkipping line 6474: expected 1 fields, saw 2\\nSkipping line 6570: expected 1 fields, saw 2\\nSkipping line 6813: expected 1 fields, saw 2\\nSkipping line 6835: expected 1 fields, saw 2\\nSkipping line 6938: expected 1 fields, saw 2\\nSkipping line 6982: expected 1 fields, saw 2\\nSkipping line 7050: expected 1 fields, saw 2\\nSkipping line 7075: expected 1 fields, saw 2\\nSkipping line 7111: expected 1 fields, saw 2\\nSkipping line 7122: expected 1 fields, saw 2\\nSkipping line 7148: expected 1 fields, saw 2\\nSkipping line 7261: expected 1 fields, saw 2\\nSkipping line 7287: expected 1 fields, saw 3\\nSkipping line 7326: expected 1 fields, saw 2\\nSkipping line 7424: expected 1 fields, saw 2\\nSkipping line 7432: expected 1 fields, saw 3\\nSkipping line 7607: expected 1 fields, saw 3\\nSkipping line 7613: expected 1 fields, saw 2\\nSkipping line 7714: expected 1 fields, saw 3\\nSkipping line 7716: expected 1 fields, saw 2\\nSkipping line 7749: expected 1 fields, saw 2\\nSkipping line 7759: expected 1 fields, saw 2\\nSkipping line 7821: expected 1 fields, saw 3\\nSkipping line 7925: expected 1 fields, saw 4\\nSkipping line 7934: expected 1 fields, saw 2\\nSkipping line 7937: expected 1 fields, saw 2\\nSkipping line 8071: expected 1 fields, saw 2\\nSkipping line 8226: expected 1 fields, saw 2\\nSkipping line 8270: expected 1 fields, saw 4\\nSkipping line 8357: expected 1 fields, saw 2\\nSkipping line 8375: expected 1 fields, saw 4\\nSkipping line 8402: expected 1 fields, saw 2\\nSkipping line 8412: expected 1 fields, saw 2\\nSkipping line 8424: expected 1 fields, saw 2\\nSkipping line 8440: expected 1 fields, saw 2\\nSkipping line 8448: expected 1 fields, saw 4\\nSkipping line 8487: expected 1 fields, saw 2\\nSkipping line 8502: expected 1 fields, saw 4\\nSkipping line 8540: expected 1 fields, saw 3\\nSkipping line 8568: expected 1 fields, saw 2\\nSkipping line 8570: expected 1 fields, saw 2\\nSkipping line 8635: expected 1 fields, saw 2\\nSkipping line 8807: expected 1 fields, saw 2\\nSkipping line 8886: expected 1 fields, saw 2\\nSkipping line 8904: expected 1 fields, saw 2\\nSkipping line 8926: expected 1 fields, saw 2\\nSkipping line 8948: expected 1 fields, saw 2\\nSkipping line 8973: expected 1 fields, saw 4\\nSkipping line 8980: expected 1 fields, saw 2\\nSkipping line 9007: expected 1 fields, saw 4\\nSkipping line 9009: expected 1 fields, saw 2\\nSkipping line 9061: expected 1 fields, saw 2\\nSkipping line 9070: expected 1 fields, saw 2\\nSkipping line 9323: expected 1 fields, saw 2\\nSkipping line 9346: expected 1 fields, saw 3\\nSkipping line 9520: expected 1 fields, saw 2\\nSkipping line 9528: expected 1 fields, saw 2\\nSkipping line 9535: expected 1 fields, saw 2\\nSkipping line 9546: expected 1 fields, saw 2\\nSkipping line 9570: expected 1 fields, saw 2\\n'\n"
     ]
    }
   ],
   "source": [
    "#read_file = pd.read_csv (r'Tweets.txt')\n",
    "#read_file.to_csv (r'Tweets.csv', index=None)\n",
    "# load the data\n",
    "df = pd.read_csv('Tweets.csv', encoding='utf-8',error_bad_lines=False)"
   ]
  },
  {
   "cell_type": "code",
   "execution_count": 3,
   "metadata": {},
   "outputs": [
    {
     "data": {
      "text/html": [
       "<div>\n",
       "<style scoped>\n",
       "    .dataframe tbody tr th:only-of-type {\n",
       "        vertical-align: middle;\n",
       "    }\n",
       "\n",
       "    .dataframe tbody tr th {\n",
       "        vertical-align: top;\n",
       "    }\n",
       "\n",
       "    .dataframe thead th {\n",
       "        text-align: right;\n",
       "    }\n",
       "</style>\n",
       "<table border=\"1\" class=\"dataframe\">\n",
       "  <thead>\n",
       "    <tr style=\"text-align: right;\">\n",
       "      <th></th>\n",
       "      <th>بعد استقالة رئيس #المحكمة_الدستورية ننتظر استقالة #رئيس_القضاء #السودان\\tOBJ</th>\n",
       "    </tr>\n",
       "  </thead>\n",
       "  <tbody>\n",
       "    <tr>\n",
       "      <th>0</th>\n",
       "      <td>أهنئ الدكتور أحمد جمال الدين، القيادي بحزب مصر...</td>\n",
       "    </tr>\n",
       "    <tr>\n",
       "      <th>1</th>\n",
       "      <td>البرادعي يستقوى بامريكا مرةاخرى و يرسل عصام ال...</td>\n",
       "    </tr>\n",
       "    <tr>\n",
       "      <th>2</th>\n",
       "      <td>#الحرية_والعدالة | شاهد الآن: #ليلة_الاتحادية ...</td>\n",
       "    </tr>\n",
       "    <tr>\n",
       "      <th>3</th>\n",
       "      <td>الوالدة لو اقولها بخاطري حشيشة تضحك بس من اقول...</td>\n",
       "    </tr>\n",
       "    <tr>\n",
       "      <th>4</th>\n",
       "      <td>#انتخبوا_العرص #انتخبوا_البرص #مرسى_رئيسى #اين...</td>\n",
       "    </tr>\n",
       "  </tbody>\n",
       "</table>\n",
       "</div>"
      ],
      "text/plain": [
       "  بعد استقالة رئيس #المحكمة_الدستورية ننتظر استقالة #رئيس_القضاء #السودان\\tOBJ\n",
       "0  أهنئ الدكتور أحمد جمال الدين، القيادي بحزب مصر...                          \n",
       "1  البرادعي يستقوى بامريكا مرةاخرى و يرسل عصام ال...                          \n",
       "2  #الحرية_والعدالة | شاهد الآن: #ليلة_الاتحادية ...                          \n",
       "3  الوالدة لو اقولها بخاطري حشيشة تضحك بس من اقول...                          \n",
       "4  #انتخبوا_العرص #انتخبوا_البرص #مرسى_رئيسى #اين...                          "
      ]
     },
     "execution_count": 3,
     "metadata": {},
     "output_type": "execute_result"
    }
   ],
   "source": [
    "df.head()"
   ]
  },
  {
   "cell_type": "code",
   "execution_count": 4,
   "metadata": {},
   "outputs": [],
   "source": [
    "df = df.rename(columns={'بعد استقالة رئيس #المحكمة_الدستورية ننتظر استقالة #رئيس_القضاء #السودان\\tOBJ': 'text'}, index={'ONE': 'one'})"
   ]
  },
  {
   "cell_type": "code",
   "execution_count": 5,
   "metadata": {},
   "outputs": [
    {
     "data": {
      "text/plain": [
       "(9546, 1)"
      ]
     },
     "execution_count": 5,
     "metadata": {},
     "output_type": "execute_result"
    }
   ],
   "source": [
    "df.shape"
   ]
  },
  {
   "cell_type": "code",
   "execution_count": 6,
   "metadata": {},
   "outputs": [
    {
     "data": {
      "text/html": [
       "<div>\n",
       "<style scoped>\n",
       "    .dataframe tbody tr th:only-of-type {\n",
       "        vertical-align: middle;\n",
       "    }\n",
       "\n",
       "    .dataframe tbody tr th {\n",
       "        vertical-align: top;\n",
       "    }\n",
       "\n",
       "    .dataframe thead th {\n",
       "        text-align: right;\n",
       "    }\n",
       "</style>\n",
       "<table border=\"1\" class=\"dataframe\">\n",
       "  <thead>\n",
       "    <tr style=\"text-align: right;\">\n",
       "      <th></th>\n",
       "      <th>text</th>\n",
       "    </tr>\n",
       "  </thead>\n",
       "  <tbody>\n",
       "    <tr>\n",
       "      <th>0</th>\n",
       "      <td>أهنئ الدكتور أحمد جمال الدين، القيادي بحزب مصر...</td>\n",
       "    </tr>\n",
       "    <tr>\n",
       "      <th>1</th>\n",
       "      <td>البرادعي يستقوى بامريكا مرةاخرى و يرسل عصام ال...</td>\n",
       "    </tr>\n",
       "    <tr>\n",
       "      <th>2</th>\n",
       "      <td>#الحرية_والعدالة | شاهد الآن: #ليلة_الاتحادية ...</td>\n",
       "    </tr>\n",
       "    <tr>\n",
       "      <th>3</th>\n",
       "      <td>الوالدة لو اقولها بخاطري حشيشة تضحك بس من اقول...</td>\n",
       "    </tr>\n",
       "    <tr>\n",
       "      <th>4</th>\n",
       "      <td>#انتخبوا_العرص #انتخبوا_البرص #مرسى_رئيسى #اين...</td>\n",
       "    </tr>\n",
       "  </tbody>\n",
       "</table>\n",
       "</div>"
      ],
      "text/plain": [
       "                                                text\n",
       "0  أهنئ الدكتور أحمد جمال الدين، القيادي بحزب مصر...\n",
       "1  البرادعي يستقوى بامريكا مرةاخرى و يرسل عصام ال...\n",
       "2  #الحرية_والعدالة | شاهد الآن: #ليلة_الاتحادية ...\n",
       "3  الوالدة لو اقولها بخاطري حشيشة تضحك بس من اقول...\n",
       "4  #انتخبوا_العرص #انتخبوا_البرص #مرسى_رئيسى #اين..."
      ]
     },
     "execution_count": 6,
     "metadata": {},
     "output_type": "execute_result"
    }
   ],
   "source": [
    "df.head()"
   ]
  },
  {
   "cell_type": "code",
   "execution_count": 7,
   "metadata": {},
   "outputs": [],
   "source": [
    "# clean the data from nonsense words, to help speed up the training process\n",
    "\n",
    "from bs4 import BeautifulSoup\n",
    "import re\n",
    "from nltk.tokenize import WordPunctTokenizer\n",
    "tok = WordPunctTokenizer()\n",
    "\n",
    "\n",
    "pat1 = r'@[A-Za-z0-9]+'\n",
    "pat2 = r'https?://[A-Za-z0-9./]+'\n",
    "combined_pat = r'|'.join((pat1, pat2))\n",
    "\n",
    "def clean_str(text):\n",
    "    search = [\"أ\",\"إ\",\"آ\",\"ة\",\"_\",\"-\",\"/\",\".\",\"،\",\" و \",\" يا \",'\"',\"ـ\",\"'\",\"ى\",\"\\\\\",'\\n', '\\t','&quot;','?','؟','!']\n",
    "    replace = [\"ا\",\"ا\",\"ا\",\"ه\",\" \",\" \",\"\",\"\",\"\",\" و\",\" يا\",\"\",\"\",\"\",\"ي\",\"\",' ', ' ',' ',' ? ',' ؟ ',' ! ']\n",
    "    \n",
    "    #remove tashkeel\n",
    "    p_tashkeel = re.compile(r'[\\u0617-\\u061A\\u064B-\\u0652]')\n",
    "    text = re.sub(p_tashkeel,\"\", text)\n",
    "    \n",
    "    #remove longation\n",
    "    p_longation = re.compile(r'(.)\\1+')\n",
    "    subst = r\"\\1\\1\"\n",
    "    text = re.sub(p_longation, subst, text)\n",
    "    \n",
    "    text = text.replace('وو', 'و')\n",
    "    text = text.replace('يي', 'ي')\n",
    "    text = text.replace('اا', 'ا')\n",
    "    \n",
    "    soup = BeautifulSoup(text, 'lxml')\n",
    "    souped = soup.get_text()\n",
    "    stripped = re.sub(combined_pat, '', souped)\n",
    "    try:\n",
    "        clean = stripped.decode(\"utf-8-sig\").replace(u\"\\ufffd\", \"?\")\n",
    "    except:\n",
    "        clean = stripped\n",
    "    \n",
    "    words = tok.tokenize(clean)\n",
    "    return (\" \".join(words)).strip()"
   ]
  },
  {
   "cell_type": "code",
   "execution_count": 8,
   "metadata": {
    "scrolled": true
   },
   "outputs": [],
   "source": [
    "# applying the cleaning function\n",
    "size = len(df)\n",
    "clean_tweet_texts = []\n",
    "for i in range(0, size):\n",
    "    if (i+1)%10000 == 0:\n",
    "        print(\"Tweets %d of %d has been processed\" % (i+1, size))\n",
    "    clean_tweet_texts.append(clean_str(df['text'].astype('U')[i]))"
   ]
  },
  {
   "cell_type": "code",
   "execution_count": 9,
   "metadata": {},
   "outputs": [],
   "source": [
    "# add the cleaned data to the dataframe\n",
    "df['clean_tweets'] = clean_tweet_texts"
   ]
  },
  {
   "cell_type": "code",
   "execution_count": 10,
   "metadata": {},
   "outputs": [
    {
     "data": {
      "text/html": [
       "<div>\n",
       "<style scoped>\n",
       "    .dataframe tbody tr th:only-of-type {\n",
       "        vertical-align: middle;\n",
       "    }\n",
       "\n",
       "    .dataframe tbody tr th {\n",
       "        vertical-align: top;\n",
       "    }\n",
       "\n",
       "    .dataframe thead th {\n",
       "        text-align: right;\n",
       "    }\n",
       "</style>\n",
       "<table border=\"1\" class=\"dataframe\">\n",
       "  <thead>\n",
       "    <tr style=\"text-align: right;\">\n",
       "      <th></th>\n",
       "      <th>text</th>\n",
       "      <th>clean_tweets</th>\n",
       "    </tr>\n",
       "  </thead>\n",
       "  <tbody>\n",
       "    <tr>\n",
       "      <th>0</th>\n",
       "      <td>أهنئ الدكتور أحمد جمال الدين، القيادي بحزب مصر...</td>\n",
       "      <td>أهنئ الدكتور أحمد جمال الدين ، القيادي بحزب مص...</td>\n",
       "    </tr>\n",
       "    <tr>\n",
       "      <th>1</th>\n",
       "      <td>البرادعي يستقوى بامريكا مرةاخرى و يرسل عصام ال...</td>\n",
       "      <td>البرادعي يستقوى بامريكا مرةاخرى و يرسل عصام ال...</td>\n",
       "    </tr>\n",
       "    <tr>\n",
       "      <th>2</th>\n",
       "      <td>#الحرية_والعدالة | شاهد الآن: #ليلة_الاتحادية ...</td>\n",
       "      <td># الحرية_والعدالة | شاهد الآن : # ليلة_الاتحاد...</td>\n",
       "    </tr>\n",
       "    <tr>\n",
       "      <th>3</th>\n",
       "      <td>الوالدة لو اقولها بخاطري حشيشة تضحك بس من اقول...</td>\n",
       "      <td>الوالدة لو اقولها بخاطري حشيشة تضحك بس من اقول...</td>\n",
       "    </tr>\n",
       "    <tr>\n",
       "      <th>4</th>\n",
       "      <td>#انتخبوا_العرص #انتخبوا_البرص #مرسى_رئيسى #اين...</td>\n",
       "      <td># انتخبوا_العرص # انتخبوا_البرص # مرسى_رئيسى #...</td>\n",
       "    </tr>\n",
       "  </tbody>\n",
       "</table>\n",
       "</div>"
      ],
      "text/plain": [
       "                                                text  \\\n",
       "0  أهنئ الدكتور أحمد جمال الدين، القيادي بحزب مصر...   \n",
       "1  البرادعي يستقوى بامريكا مرةاخرى و يرسل عصام ال...   \n",
       "2  #الحرية_والعدالة | شاهد الآن: #ليلة_الاتحادية ...   \n",
       "3  الوالدة لو اقولها بخاطري حشيشة تضحك بس من اقول...   \n",
       "4  #انتخبوا_العرص #انتخبوا_البرص #مرسى_رئيسى #اين...   \n",
       "\n",
       "                                        clean_tweets  \n",
       "0  أهنئ الدكتور أحمد جمال الدين ، القيادي بحزب مص...  \n",
       "1  البرادعي يستقوى بامريكا مرةاخرى و يرسل عصام ال...  \n",
       "2  # الحرية_والعدالة | شاهد الآن : # ليلة_الاتحاد...  \n",
       "3  الوالدة لو اقولها بخاطري حشيشة تضحك بس من اقول...  \n",
       "4  # انتخبوا_العرص # انتخبوا_البرص # مرسى_رئيسى #...  "
      ]
     },
     "execution_count": 10,
     "metadata": {},
     "output_type": "execute_result"
    }
   ],
   "source": [
    "# view data after cleaning\n",
    "df.head()"
   ]
  },
  {
   "cell_type": "code",
   "execution_count": 11,
   "metadata": {},
   "outputs": [],
   "source": [
    "# vectorizing the words\n",
    "tfidf = TfidfVectorizer()\n",
    "data = tfidf.fit_transform(df['clean_tweets'].values.astype('U'))"
   ]
  },
  {
   "cell_type": "code",
   "execution_count": 12,
   "metadata": {},
   "outputs": [
    {
     "data": {
      "text/plain": [
       "KMeans(algorithm='auto', copy_x=True, init='k-means++', max_iter=300,\n",
       "       n_clusters=3, n_init=10, n_jobs=None, precompute_distances='auto',\n",
       "       random_state=None, tol=0.0001, verbose=0)"
      ]
     },
     "execution_count": 12,
     "metadata": {},
     "output_type": "execute_result"
    }
   ],
   "source": [
    "'''\n",
    "# AS THE DATA NOT LABELED AND I HAVE2 OPTIONS:\n",
    "# FIRST OF THEM : CLUSTERING\n",
    "# SECOND: SEARCHING IN COMPETETIONS ABOUT LABLELING (I FOUND POSTIIVE AND NEGATIVE ONLY)\n",
    "# I PREFER FIRST SOLUTION\n",
    "'''\n",
    "kmeans = KMeans(n_clusters=3)\n",
    "kmeans.fit(data)"
   ]
  },
  {
   "cell_type": "code",
   "execution_count": 13,
   "metadata": {},
   "outputs": [],
   "source": [
    "df['label_tweet'] = kmeans.labels_.tolist()"
   ]
  },
  {
   "cell_type": "code",
   "execution_count": 14,
   "metadata": {},
   "outputs": [
    {
     "data": {
      "text/html": [
       "<div>\n",
       "<style scoped>\n",
       "    .dataframe tbody tr th:only-of-type {\n",
       "        vertical-align: middle;\n",
       "    }\n",
       "\n",
       "    .dataframe tbody tr th {\n",
       "        vertical-align: top;\n",
       "    }\n",
       "\n",
       "    .dataframe thead th {\n",
       "        text-align: right;\n",
       "    }\n",
       "</style>\n",
       "<table border=\"1\" class=\"dataframe\">\n",
       "  <thead>\n",
       "    <tr style=\"text-align: right;\">\n",
       "      <th></th>\n",
       "      <th>text</th>\n",
       "      <th>clean_tweets</th>\n",
       "      <th>label_tweet</th>\n",
       "    </tr>\n",
       "  </thead>\n",
       "  <tbody>\n",
       "    <tr>\n",
       "      <th>0</th>\n",
       "      <td>أهنئ الدكتور أحمد جمال الدين، القيادي بحزب مصر...</td>\n",
       "      <td>أهنئ الدكتور أحمد جمال الدين ، القيادي بحزب مص...</td>\n",
       "      <td>1</td>\n",
       "    </tr>\n",
       "    <tr>\n",
       "      <th>1</th>\n",
       "      <td>البرادعي يستقوى بامريكا مرةاخرى و يرسل عصام ال...</td>\n",
       "      <td>البرادعي يستقوى بامريكا مرةاخرى و يرسل عصام ال...</td>\n",
       "      <td>0</td>\n",
       "    </tr>\n",
       "    <tr>\n",
       "      <th>2</th>\n",
       "      <td>#الحرية_والعدالة | شاهد الآن: #ليلة_الاتحادية ...</td>\n",
       "      <td># الحرية_والعدالة | شاهد الآن : # ليلة_الاتحاد...</td>\n",
       "      <td>0</td>\n",
       "    </tr>\n",
       "    <tr>\n",
       "      <th>3</th>\n",
       "      <td>الوالدة لو اقولها بخاطري حشيشة تضحك بس من اقول...</td>\n",
       "      <td>الوالدة لو اقولها بخاطري حشيشة تضحك بس من اقول...</td>\n",
       "      <td>0</td>\n",
       "    </tr>\n",
       "    <tr>\n",
       "      <th>4</th>\n",
       "      <td>#انتخبوا_العرص #انتخبوا_البرص #مرسى_رئيسى #اين...</td>\n",
       "      <td># انتخبوا_العرص # انتخبوا_البرص # مرسى_رئيسى #...</td>\n",
       "      <td>0</td>\n",
       "    </tr>\n",
       "  </tbody>\n",
       "</table>\n",
       "</div>"
      ],
      "text/plain": [
       "                                                text  \\\n",
       "0  أهنئ الدكتور أحمد جمال الدين، القيادي بحزب مصر...   \n",
       "1  البرادعي يستقوى بامريكا مرةاخرى و يرسل عصام ال...   \n",
       "2  #الحرية_والعدالة | شاهد الآن: #ليلة_الاتحادية ...   \n",
       "3  الوالدة لو اقولها بخاطري حشيشة تضحك بس من اقول...   \n",
       "4  #انتخبوا_العرص #انتخبوا_البرص #مرسى_رئيسى #اين...   \n",
       "\n",
       "                                        clean_tweets  label_tweet  \n",
       "0  أهنئ الدكتور أحمد جمال الدين ، القيادي بحزب مص...            1  \n",
       "1  البرادعي يستقوى بامريكا مرةاخرى و يرسل عصام ال...            0  \n",
       "2  # الحرية_والعدالة | شاهد الآن : # ليلة_الاتحاد...            0  \n",
       "3  الوالدة لو اقولها بخاطري حشيشة تضحك بس من اقول...            0  \n",
       "4  # انتخبوا_العرص # انتخبوا_البرص # مرسى_رئيسى #...            0  "
      ]
     },
     "execution_count": 14,
     "metadata": {},
     "output_type": "execute_result"
    }
   ],
   "source": [
    "df.head()"
   ]
  },
  {
   "cell_type": "code",
   "execution_count": 15,
   "metadata": {
    "scrolled": true
   },
   "outputs": [
    {
     "data": {
      "text/html": [
       "<div>\n",
       "<style scoped>\n",
       "    .dataframe tbody tr th:only-of-type {\n",
       "        vertical-align: middle;\n",
       "    }\n",
       "\n",
       "    .dataframe tbody tr th {\n",
       "        vertical-align: top;\n",
       "    }\n",
       "\n",
       "    .dataframe thead th {\n",
       "        text-align: right;\n",
       "    }\n",
       "</style>\n",
       "<table border=\"1\" class=\"dataframe\">\n",
       "  <thead>\n",
       "    <tr style=\"text-align: right;\">\n",
       "      <th></th>\n",
       "      <th>tweet</th>\n",
       "      <th>label</th>\n",
       "    </tr>\n",
       "  </thead>\n",
       "  <tbody>\n",
       "    <tr>\n",
       "      <th>0</th>\n",
       "      <td>أهنئ الدكتور أحمد جمال الدين ، القيادي بحزب مص...</td>\n",
       "      <td>1</td>\n",
       "    </tr>\n",
       "    <tr>\n",
       "      <th>1</th>\n",
       "      <td>البرادعي يستقوى بامريكا مرةاخرى و يرسل عصام ال...</td>\n",
       "      <td>0</td>\n",
       "    </tr>\n",
       "    <tr>\n",
       "      <th>2</th>\n",
       "      <td># الحرية_والعدالة | شاهد الآن : # ليلة_الاتحاد...</td>\n",
       "      <td>0</td>\n",
       "    </tr>\n",
       "    <tr>\n",
       "      <th>3</th>\n",
       "      <td>الوالدة لو اقولها بخاطري حشيشة تضحك بس من اقول...</td>\n",
       "      <td>0</td>\n",
       "    </tr>\n",
       "    <tr>\n",
       "      <th>4</th>\n",
       "      <td># انتخبوا_العرص # انتخبوا_البرص # مرسى_رئيسى #...</td>\n",
       "      <td>0</td>\n",
       "    </tr>\n",
       "  </tbody>\n",
       "</table>\n",
       "</div>"
      ],
      "text/plain": [
       "                                               tweet  label\n",
       "0  أهنئ الدكتور أحمد جمال الدين ، القيادي بحزب مص...      1\n",
       "1  البرادعي يستقوى بامريكا مرةاخرى و يرسل عصام ال...      0\n",
       "2  # الحرية_والعدالة | شاهد الآن : # ليلة_الاتحاد...      0\n",
       "3  الوالدة لو اقولها بخاطري حشيشة تضحك بس من اقول...      0\n",
       "4  # انتخبوا_العرص # انتخبوا_البرص # مرسى_رئيسى #...      0"
      ]
     },
     "execution_count": 15,
     "metadata": {},
     "output_type": "execute_result"
    }
   ],
   "source": [
    "# DF for cleaned data\n",
    "clean_df = pd.DataFrame()\n",
    "clean_df.head()\n",
    "clean_df['tweet'] = df['clean_tweets']\n",
    "clean_df['label'] = df['label_tweet']\n",
    "clean_df.head()"
   ]
  },
  {
   "cell_type": "code",
   "execution_count": 16,
   "metadata": {},
   "outputs": [
    {
     "name": "stdout",
     "output_type": "stream",
     "text": [
      "Data labeled [0] = tweet    6752\n",
      "label    6752\n",
      "dtype: int64\n",
      "Data labeled [1] = tweet    2579\n",
      "label    2579\n",
      "dtype: int64\n",
      "Data labeled [2] = tweet    215\n",
      "label    215\n",
      "dtype: int64\n"
     ]
    }
   ],
   "source": [
    "# show data count\n",
    "print('Data labeled [0] = {}'.format(clean_df[clean_df.label == 0].count()))\n",
    "print('Data labeled [1] = {}'.format(clean_df[clean_df.label == 1].count()))\n",
    "print('Data labeled [2] = {}'.format(clean_df[clean_df.label == 2].count()))"
   ]
  },
  {
   "cell_type": "code",
   "execution_count": 17,
   "metadata": {},
   "outputs": [
    {
     "data": {
      "text/html": [
       "<div>\n",
       "<style scoped>\n",
       "    .dataframe tbody tr th:only-of-type {\n",
       "        vertical-align: middle;\n",
       "    }\n",
       "\n",
       "    .dataframe tbody tr th {\n",
       "        vertical-align: top;\n",
       "    }\n",
       "\n",
       "    .dataframe thead th {\n",
       "        text-align: right;\n",
       "    }\n",
       "</style>\n",
       "<table border=\"1\" class=\"dataframe\">\n",
       "  <thead>\n",
       "    <tr style=\"text-align: right;\">\n",
       "      <th></th>\n",
       "      <th>tweet</th>\n",
       "      <th>label</th>\n",
       "    </tr>\n",
       "  </thead>\n",
       "  <tbody>\n",
       "    <tr>\n",
       "      <th>0</th>\n",
       "      <td>أهنئ الدكتور أحمد جمال الدين ، القيادي بحزب مص...</td>\n",
       "      <td>1</td>\n",
       "    </tr>\n",
       "    <tr>\n",
       "      <th>1</th>\n",
       "      <td>البرادعي يستقوى بامريكا مرةاخرى و يرسل عصام ال...</td>\n",
       "      <td>0</td>\n",
       "    </tr>\n",
       "    <tr>\n",
       "      <th>2</th>\n",
       "      <td># الحرية_والعدالة | شاهد الآن : # ليلة_الاتحاد...</td>\n",
       "      <td>0</td>\n",
       "    </tr>\n",
       "    <tr>\n",
       "      <th>3</th>\n",
       "      <td>الوالدة لو اقولها بخاطري حشيشة تضحك بس من اقول...</td>\n",
       "      <td>0</td>\n",
       "    </tr>\n",
       "    <tr>\n",
       "      <th>4</th>\n",
       "      <td># انتخبوا_العرص # انتخبوا_البرص # مرسى_رئيسى #...</td>\n",
       "      <td>0</td>\n",
       "    </tr>\n",
       "  </tbody>\n",
       "</table>\n",
       "</div>"
      ],
      "text/plain": [
       "                                               tweet  label\n",
       "0  أهنئ الدكتور أحمد جمال الدين ، القيادي بحزب مص...      1\n",
       "1  البرادعي يستقوى بامريكا مرةاخرى و يرسل عصام ال...      0\n",
       "2  # الحرية_والعدالة | شاهد الآن : # ليلة_الاتحاد...      0\n",
       "3  الوالدة لو اقولها بخاطري حشيشة تضحك بس من اقول...      0\n",
       "4  # انتخبوا_العرص # انتخبوا_البرص # مرسى_رئيسى #...      0"
      ]
     },
     "execution_count": 17,
     "metadata": {},
     "output_type": "execute_result"
    }
   ],
   "source": [
    "csv_file = 'cleaned_data.csv'\n",
    "clean_df.to_csv(csv_file,encoding='utf-8')\n",
    "df2 = pd.read_csv(csv_file,index_col=0)\n",
    "df2.head()"
   ]
  },
  {
   "cell_type": "markdown",
   "metadata": {},
   "source": [
    "## Building the model"
   ]
  },
  {
   "cell_type": "code",
   "execution_count": 18,
   "metadata": {
    "scrolled": true
   },
   "outputs": [],
   "source": [
    "# vectorize the data \n",
    "cv = CountVectorizer()\n",
    "X_data = cv.fit_transform(df2['tweet'].values.astype('U'))"
   ]
  },
  {
   "cell_type": "code",
   "execution_count": 19,
   "metadata": {},
   "outputs": [],
   "source": [
    "# fit and apply transformer for count vectorization\n",
    "tfidf = TfidfTransformer()\n",
    "X_data_tfidf = tfidf.fit_transform(X_data)"
   ]
  },
  {
   "cell_type": "code",
   "execution_count": 20,
   "metadata": {},
   "outputs": [],
   "source": [
    "# Train and test split data\n",
    "X_train, X_test, y_train, y_test = train_test_split(X_data_tfidf, df2['label'], test_size=0.33, random_state=42)"
   ]
  },
  {
   "cell_type": "code",
   "execution_count": 21,
   "metadata": {},
   "outputs": [
    {
     "data": {
      "text/plain": [
       "(6395, 36867)"
      ]
     },
     "execution_count": 21,
     "metadata": {},
     "output_type": "execute_result"
    }
   ],
   "source": [
    "X_train.shape"
   ]
  },
  {
   "cell_type": "code",
   "execution_count": 22,
   "metadata": {},
   "outputs": [
    {
     "data": {
      "text/plain": [
       "(3151, 36867)"
      ]
     },
     "execution_count": 22,
     "metadata": {},
     "output_type": "execute_result"
    }
   ],
   "source": [
    "X_test.shape"
   ]
  },
  {
   "cell_type": "markdown",
   "metadata": {},
   "source": [
    "# SVM Model"
   ]
  },
  {
   "cell_type": "code",
   "execution_count": 23,
   "metadata": {},
   "outputs": [
    {
     "data": {
      "text/plain": [
       "SVC(C=1.0, break_ties=False, cache_size=200, class_weight=None, coef0=0.0,\n",
       "    decision_function_shape='ovr', degree=3, gamma='scale', kernel='rbf',\n",
       "    max_iter=-1, probability=False, random_state=None, shrinking=True,\n",
       "    tol=0.001, verbose=False)"
      ]
     },
     "execution_count": 23,
     "metadata": {},
     "output_type": "execute_result"
    }
   ],
   "source": [
    "svc = SVC()\n",
    "svc.fit(X_train, y_train)"
   ]
  },
  {
   "cell_type": "code",
   "execution_count": 24,
   "metadata": {},
   "outputs": [
    {
     "name": "stdout",
     "output_type": "stream",
     "text": [
      "SVC model accuracy: 99.61916851793082\n"
     ]
    }
   ],
   "source": [
    "preds = svc.predict(X_test)\n",
    "acc = np.mean(preds == y_test)\n",
    "print('SVC model accuracy: {}'.format(acc*100))"
   ]
  },
  {
   "cell_type": "code",
   "execution_count": 25,
   "metadata": {},
   "outputs": [
    {
     "name": "stdout",
     "output_type": "stream",
     "text": [
      "              precision    recall  f1-score   support\n",
      "\n",
      "           0       1.00      1.00      1.00      2247\n",
      "           1       1.00      0.99      0.99       837\n",
      "           2       1.00      0.96      0.98        67\n",
      "\n",
      "    accuracy                           1.00      3151\n",
      "   macro avg       1.00      0.98      0.99      3151\n",
      "weighted avg       1.00      1.00      1.00      3151\n",
      "\n"
     ]
    }
   ],
   "source": [
    "cr = classification_report(y_test, svc.predict(X_test))\n",
    "print(cr)"
   ]
  },
  {
   "cell_type": "markdown",
   "metadata": {},
   "source": [
    "### Optimization using SGD"
   ]
  },
  {
   "cell_type": "code",
   "execution_count": 26,
   "metadata": {},
   "outputs": [
    {
     "data": {
      "text/plain": [
       "SGDClassifier(alpha=0.0001, average=False, class_weight=None,\n",
       "              early_stopping=False, epsilon=0.1, eta0=0.0, fit_intercept=True,\n",
       "              l1_ratio=0.15, learning_rate='optimal', loss='hinge',\n",
       "              max_iter=1000, n_iter_no_change=5, n_jobs=None, penalty='l2',\n",
       "              power_t=0.5, random_state=None, shuffle=True, tol=0.001,\n",
       "              validation_fraction=0.1, verbose=0, warm_start=False)"
      ]
     },
     "execution_count": 26,
     "metadata": {},
     "output_type": "execute_result"
    }
   ],
   "source": [
    "clf = SGDClassifier()\n",
    "clf.fit(X_train, y_train)"
   ]
  },
  {
   "cell_type": "code",
   "execution_count": 27,
   "metadata": {},
   "outputs": [
    {
     "name": "stdout",
     "output_type": "stream",
     "text": [
      "SGD model accuracy is : 99.7461123452872\n"
     ]
    }
   ],
   "source": [
    "predictions = clf.predict(X_test)\n",
    "acc = np.mean(predictions == y_test)\n",
    "print('SGD model accuracy is : {}'.format(acc*100))"
   ]
  },
  {
   "cell_type": "code",
   "execution_count": 28,
   "metadata": {},
   "outputs": [
    {
     "name": "stdout",
     "output_type": "stream",
     "text": [
      "              precision    recall  f1-score   support\n",
      "\n",
      "           0       1.00      1.00      1.00      2247\n",
      "           1       0.99      1.00      1.00       837\n",
      "           2       0.98      0.97      0.98        67\n",
      "\n",
      "    accuracy                           1.00      3151\n",
      "   macro avg       0.99      0.99      0.99      3151\n",
      "weighted avg       1.00      1.00      1.00      3151\n",
      "\n"
     ]
    }
   ],
   "source": [
    "cr = classification_report(y_test, clf.predict(X_test))\n",
    "print(cr)"
   ]
  },
  {
   "cell_type": "code",
   "execution_count": 29,
   "metadata": {},
   "outputs": [],
   "source": [
    "# save the model to disk\n",
    "import pickle\n",
    "filename = 'SVM_MODEL_SENTIMENT_ARABIC.sav'\n",
    "pickle.dump(svc, open(filename, 'wb'))"
   ]
  },
  {
   "cell_type": "code",
   "execution_count": 33,
   "metadata": {},
   "outputs": [
    {
     "name": "stdout",
     "output_type": "stream",
     "text": [
      "0.9961916851793081\n"
     ]
    }
   ],
   "source": [
    "# load the model from disk\n",
    "# Test\n",
    "loaded_model = pickle.load(open(filename, 'rb'))\n",
    "result = loaded_model.score(X_test, y_test)\n",
    "print(result)"
   ]
  },
  {
   "cell_type": "markdown",
   "metadata": {},
   "source": [
    "###### Final Accuracy is 99.4% and it's very good for clustering then classification it "
   ]
  },
  {
   "cell_type": "markdown",
   "metadata": {},
   "source": [
    "\n",
    "###### @Abdelfattah Mohamed\n",
    "###### 20170314"
   ]
  },
  {
   "cell_type": "code",
   "execution_count": null,
   "metadata": {},
   "outputs": [],
   "source": []
  }
 ],
 "metadata": {
  "kernelspec": {
   "display_name": "Python 3",
   "language": "python",
   "name": "python3"
  },
  "language_info": {
   "codemirror_mode": {
    "name": "ipython",
    "version": 3
   },
   "file_extension": ".py",
   "mimetype": "text/x-python",
   "name": "python",
   "nbconvert_exporter": "python",
   "pygments_lexer": "ipython3",
   "version": "3.7.6"
  }
 },
 "nbformat": 4,
 "nbformat_minor": 4
}
